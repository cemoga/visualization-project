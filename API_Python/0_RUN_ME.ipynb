{
 "cells": [
  {
   "cell_type": "markdown",
   "metadata": {},
   "source": [
    "# API Information"
   ]
  },
  {
   "cell_type": "code",
   "execution_count": 1,
   "metadata": {},
   "outputs": [],
   "source": [
    "import math"
   ]
  },
  {
   "cell_type": "markdown",
   "metadata": {},
   "source": [
    "#### Select the year you want the API to be Queried"
   ]
  },
  {
   "cell_type": "code",
   "execution_count": 2,
   "metadata": {},
   "outputs": [],
   "source": [
    "year = \"2017\""
   ]
  },
  {
   "cell_type": "markdown",
   "metadata": {},
   "source": [
    "### Create Database and Tables"
   ]
  },
  {
   "cell_type": "code",
   "execution_count": 3,
   "metadata": {},
   "outputs": [
    {
     "output_type": "stream",
     "name": "stdout",
     "text": "The database education_db has been created or it already exists\nThe Tables ['basic', 'detail', 'metrics', 'geoloc', 'state_fips', 'region_id', 'locale', 'operating', 'under_investigation', 'main_campus', 'institutional_characteristics_level', 'ownership_peps', 'ownership', 'online_only', 'open_admissions_policy', 'degrees_awarded_predominant', 'degrees_awarded_highest', 'title_iv_eligibility_type', 'carnegie_size_setting', 'carnegie_undergrad', 'carnegie_basic', 'men_only', 'women_only', 'religious_affiliation'] were created\n"
    }
   ],
   "source": [
    "# Create the database and tables\n",
    "%run ./1_create_tables.ipynb"
   ]
  },
  {
   "cell_type": "markdown",
   "metadata": {},
   "source": [
    "### Query the API and Storage in Dataframes"
   ]
  },
  {
   "cell_type": "markdown",
   "metadata": {},
   "source": [
    "#### Loop to query the API and Storage to the database"
   ]
  },
  {
   "cell_type": "code",
   "execution_count": 4,
   "metadata": {
    "tags": [
     "outputPrepend",
     "outputPrepend",
     "outputPrepend",
     "outputPrepend",
     "outputPrepend",
     "outputPrepend",
     "outputPrepend",
     "outputPrepend",
     "outputPrepend",
     "outputPrepend",
     "outputPrepend",
     "outputPrepend",
     "outputPrepend",
     "outputPrepend",
     "outputPrepend",
     "outputPrepend",
     "outputPrepend",
     "outputPrepend",
     "outputPrepend",
     "outputPrepend",
     "outputPrepend",
     "outputPrepend",
     "outputPrepend",
     "outputPrepend",
     "outputPrepend",
     "outputPrepend",
     "outputPrepend",
     "outputPrepend",
     "outputPrepend",
     "outputPrepend",
     "outputPrepend",
     "outputPrepend",
     "outputPrepend",
     "outputPrepend",
     "outputPrepend",
     "outputPrepend",
     "outputPrepend",
     "outputPrepend",
     "outputPrepend",
     "outputPrepend",
     "outputPrepend",
     "outputPrepend",
     "outputPrepend",
     "outputPrepend",
     "outputPrepend",
     "outputPrepend",
     "outputPrepend",
     "outputPrepend",
     "outputPrepend",
     "outputPrepend",
     "outputPrepend",
     "outputPrepend",
     "outputPrepend",
     "outputPrepend",
     "outputPrepend",
     "outputPrepend",
     "outputPrepend",
     "outputPrepend",
     "outputPrepend",
     "outputPrepend",
     "outputPrepend",
     "outputPrepend",
     "outputPrepend",
     "outputPrepend",
     "outputPrepend",
     "outputPrepend",
     "outputPrepend",
     "outputPrepend",
     "outputPrepend",
     "outputPrepend",
     "outputPrepend",
     "outputPrepend",
     "outputPrepend",
     "outputPrepend",
     "outputPrepend",
     "outputPrepend",
     "outputPrepend",
     "outputPrepend",
     "outputPrepend",
     "outputPrepend",
     "outputPrepend",
     "outputPrepend",
     "outputPrepend",
     "outputPrepend",
     "outputPrepend",
     "outputPrepend",
     "outputPrepend",
     "outputPrepend",
     "outputPrepend",
     "outputPrepend",
     "outputPrepend",
     "outputPrepend",
     "outputPrepend",
     "outputPrepend",
     "outputPrepend",
     "outputPrepend",
     "outputPrepend",
     "outputPrepend",
     "outputPrepend",
     "outputPrepend",
     "outputPrepend",
     "outputPrepend",
     "outputPrepend",
     "outputPrepend",
     "outputPrepend",
     "outputPrepend",
     "outputPrepend",
     "outputPrepend",
     "outputPrepend",
     "outputPrepend",
     "outputPrepend",
     "outputPrepend",
     "outputPrepend",
     "outputPrepend",
     "outputPrepend",
     "outputPrepend",
     "outputPrepend",
     "outputPrepend",
     "outputPrepend",
     "outputPrepend",
     "outputPrepend",
     "outputPrepend",
     "outputPrepend",
     "outputPrepend",
     "outputPrepend",
     "outputPrepend",
     "outputPrepend",
     "outputPrepend",
     "outputPrepend",
     "outputPrepend",
     "outputPrepend",
     "outputPrepend",
     "outputPrepend",
     "outputPrepend",
     "outputPrepend",
     "outputPrepend",
     "outputPrepend",
     "outputPrepend",
     "outputPrepend",
     "outputPrepend",
     "outputPrepend",
     "outputPrepend"
    ]
   },
   "outputs": [
    {
     "output_type": "stream",
     "name": "stdout",
     "text": "   Currently certified as operatin\nunder_investigation:     code description\n0     0          No\n1     1        HCM2\nmain_campus:     code      description\n0     0  Not main campus\n1     1      Main campus\ninstitutional_characteristics_level:     code       description\n0     1            4-year\n1     2            2-year\n2     3  Less-than-2-year\nownership_peps:     code         description\n0     1  Public            \n1     2  Private, Nonprofit\n2     3         Proprietary\nownership:     code         description\n0     1              Public\n1     2   Private nonprofit\n2     3  Private for-profit\nonline_only:     code                  description\n0     0  Not distance-education only\n1     1      Distance-education only\nopen_admissions_policy:     code                          description\n0     1                                  Yes\n1     2                                   No\n2     3  Does not enroll first-time students\ndegrees_awarded_predominant:     code                                description\n0     0                             Not classified\n1     1  Predominantly certificate-degree granting\n2     2  Predominantly associate's-degree granting\n3     3   Predominantly bachelor's-degree granting\n4     4          Entirely graduate-degree granting\ndegrees_awarded_highest:     code          description\n0     0  Non-degree-granting\n1     1   Certificate degree\n2     2     Associate degree\n3     3    Bachelor's degree\n4     4      Graduate degree\ntitle_iv_eligibility_type:     code                                        description\n0     1  Participates in Title IV federal financial aid...\n1     2  Branch campus of a main campus that participat...\n2     3             Deferment only - limited participation\n3     5  Not currently participating in Title IV, has a...\n4     6  Not currently participating in Title IV, does ...\n5     7   Stopped participating during the collection year\n6     8  New participants (became eligible during the c...\ncarnegie_size_setting:      code                                      description\n0     -2                                   Not applicable\n1      0                                 (Not classified)\n2      1                             Two-year, very small\n3      2                                  Two-year, small\n4      3                                 Two-year, medium\n5      4                                  Two-year, large\n6      5                             Two-year, very large\n7      6  Four-year, very small, primarily nonresidential\n8      7     Four-year, very small, primarily residential\n9      8        Four-year, very small, highly residential\n10     9       Four-year, small, primarily nonresidential\n11    10          Four-year, small, primarily residential\n12    11             Four-year, small, highly residential\n13    12      Four-year, medium, primarily nonresidential\n14    13         Four-year, medium, primarily residential\n15    14            Four-year, medium, highly residential\n16    15       Four-year, large, primarily nonresidential\n17    16          Four-year, large, primarily residential\n18    17             Four-year, large, highly residential\n19    18                Exclusively graduate/professional\ncarnegie_undergrad:      code                                        description\n0     -2                                     Not applicable\n1      0              Not classified (Exclusively Graduate)\n2      1                         Two-year, higher part-time\n3      2                     Two-year, mixed part/full-time\n4      3                         Two-year, medium full-time\n5      4                         Two-year, higher full-time\n6      5                        Four-year, higher part-time\n7      6  Four-year, medium full-time, inclusive, lower ...\n8      7  Four-year, medium full-time, inclusive, higher...\n9      8  Four-year, medium full-time, selective, lower ...\n10     9  Four-year, medium full-time , selective, highe...\n11    10  Four-year, full-time, inclusive, lower transfe...\n12    11  Four-year, full-time, inclusive, higher transf...\n13    12  Four-year, full-time, selective, lower transfe...\n14    13  Four-year, full-time, selective, higher transf...\n15    14  Four-year, full-time, more selective, lower tr...\n16    15  Four-year, full-time, more selective, higher t...\ncarnegie_basic:      code                                        description\n0     -2                                     Not applicable\n1      0                                   (Not classified)\n2      1  Associate's Colleges: High Transfer-High Tradi...\n3      2  Associate's Colleges: High Transfer-Mixed Trad...\n4      3  Associate's Colleges: High Transfer-High Nontr...\n5      4  Associate's Colleges: Mixed Transfer/Career & ...\n6      5  Associate's Colleges: Mixed Transfer/Career & ...\n7      6  Associate's Colleges: Mixed Transfer/Career & ...\n8      7  Associate's Colleges: High Career & Technical-...\n9      8  Associate's Colleges: High Career & Technical-...\n10     9  Associate's Colleges: High Career & Technical-...\n11    10         Special Focus Two-Year: Health Professions\n12    11      Special Focus Two-Year: Technical Professions\n13    12              Special Focus Two-Year: Arts & Design\n14    13               Special Focus Two-Year: Other Fields\n15    14  Baccalaureate/Associate's Colleges: Associate'...\n16    15  Doctoral Universities: Very High Research Acti...\n17    16      Doctoral Universities: High Research Activity\n18    17                 Doctoral/Professional Universities\n19    18  Master's Colleges & Universities: Larger Programs\n20    19  Master's Colleges & Universities: Medium Programs\n21    20   Master's Colleges & Universities: Small Programs\n22    21      Baccalaureate Colleges: Arts & Sciences Focus\n23    22             Baccalaureate Colleges: Diverse Fields\n24    23  Baccalaureate/Associate's Colleges: Mixed Bacc...\n25    24  Special Focus Four-Year: Faith-Related Institu...\n26    25  Special Focus Four-Year: Medical Schools & Cen...\n27    26  Special Focus Four-Year: Other Health Professi...\n28    27       Special Focus Four-Year: Engineering Schools\n29    28  Special Focus Four-Year: Other Technology-Rela...\n30    29  Special Focus Four-Year: Business & Management...\n31    30  Special Focus Four-Year: Arts, Music & Design ...\n32    31               Special Focus Four-Year: Law Schools\n33    32  Special Focus Four-Year: Other Special Focus I...\n34    33                                    Tribal Colleges\nmen_only:     code description\n0     0          No\n1     1         Yes\nwomen_only:     code description\n0     0          No\n1     1         Yes\nreligious_affiliation:      code                              description\n0     -1                             Not reported\n1     -2                           Not applicable\n2     22     American Evangelical Lutheran Church\n3     24  African Methodist Episcopal Zion Church\n4     27                 Assemblies of God Church\n..   ...                                      ...\n63   102                    Evangelical Christian\n64   103                             Presbyterian\n65   105                          General Baptist\n66   106                                   Muslim\n67   107                        Plymouth Brethren\n\n[68 rows x 2 columns]\nThe API was successfully queried and the information uploaded to Dataframes\nAll the information from the API was uploaded to the database\nhttps://api.data.gov/ed/collegescorecard/v1/schools.json?api_key=RvkoJNg6NjLAKGyILO4JSqNsvaiOWEOmFxhoemNt&fields=school.open_admissions_policy,school.ownership_peps,school.price_calculator_url,school.city,school.ft_faculty_rate,school.locale,school.accreditor,school.main_campus,school.alias,school.faculty_salary,school.state,school.operating,school.instructional_expenditure_per_fte,school.state_fips,school.zip,school.carnegie_undergrad,school.women_only,school.religious_affiliation,school.tuition_revenue_per_fte,school.under_investigation,school.region_id,school.carnegie_basic,school.branches,school.men_only,school.school_url,school.online_only,school.ownership,school.accreditor_code,school.name,school.degree_urbanization,school.carnegie_size_setting,school.degrees_awarded.predominant,school.degrees_awarded.highest,school.institutional_characteristics.level,school.title_iv.approval_date,school.title_iv.eligibility_type,id,ope8_id,ope6_id,location.lon,location.lat,2017.cost.tuition.in_state,2017.cost.tuition.out_of_state,&per_page=100&page=72\n{'metadata': {'total': 7112, 'page': 72, 'per_page': 100}, 'results': []}\nstate_fips:      code                     description\n0      1                         Alabama\n1      2                          Alaska\n2      4                         Arizona\n3      5                        Arkansas\n4      6                      California\n5      8                        Colorado\n6      9                     Connecticut\n7     10                        Delaware\n8     11            District of Columbia\n9     12                         Florida\n10    13                         Georgia\n11    15                          Hawaii\n12    16                           Idaho\n13    17                        Illinois\n14    18                         Indiana\n15    19                            Iowa\n16    20                          Kansas\n17    21                        Kentucky\n18    22                       Louisiana\n19    23                           Maine\n20    24                        Maryland\n21    25                   Massachusetts\n22    26                        Michigan\n23    27                       Minnesota\n24    28                     Mississippi\n25    29                        Missouri\n26    30                         Montana\n27    31                        Nebraska\n28    32                          Nevada\n29    33                   New Hampshire\n30    34                      New Jersey\n31    35                      New Mexico\n32    36                        New York\n33    37                  North Carolina\n34    38                    North Dakota\n35    39                            Ohio\n36    40                        Oklahoma\n37    41                          Oregon\n38    42                    Pennsylvania\n39    44                    Rhode Island\n40    45                  South Carolina\n41    46                    South Dakota\n42    47                       Tennessee\n43    48                           Texas\n44    49                            Utah\n45    50                         Vermont\n46    51                        Virginia\n47    53                      Washington\n48    54                   West Virginia\n49    55                       Wisconsin\n50    56                         Wyoming\n51    60                  American Samoa\n52    64  Federated States of Micronesia\n53    66                            Guam\n54    69        Northern Mariana Islands\n55    70                           Palau\n56    72                     Puerto Rico\n57    78                  Virgin Islands\nregion_id:     code                                        description\n0     0                               U.S. Service Schools\n1     1               New England (CT, ME, MA, NH, RI, VT)\n2     2                  Mid East (DE, DC, MD, NJ, NY, PA)\n3     3                   Great Lakes (IL, IN, MI, OH, WI)\n4     4                Plains (IA, KS, MN, MO, NE, ND, SD)\n5     5  Southeast (AL, AR, FL, GA, KY, LA, MS, NC, SC,...\n6     6                         Southwest (AZ, NM, OK, TX)\n7     7               Rocky Mountains (CO, ID, MT, UT, WY)\n8     8                  Far West (AK, CA, HI, NV, OR, WA)\n9     9    Outlying Areas (AS, FM, GU, MH, MP, PR, PW, VI)\nlocale:      code                                        description\n0     11        City: Large (population of 250,000 or more)\n1     12  City: Midsize (population of at least 100,000 ...\n2     13         City: Small (population less than 100,000)\n3     21  Suburb: Large (outside principal city, in urba...\n4     22  Suburb: Midsize (outside principal city, in ur...\n5     23  Suburb: Small (outside principal city, in urba...\n6     31  Town: Fringe (in urban cluster up to 10 miles ...\n7     32  Town: Distant (in urban cluster more than 10 m...\n8     33  Town: Remote (in urban cluster more than 35 mi...\n9     41  Rural: Fringe (rural territory up to 5 miles f...\n10    42  Rural: Distant (rural territory more than 5 mi...\n11    43  Rural: Remote (rural territory more than 25 mi...\noperating:     code                                        description\n0     0  Not currently certified as an operating instit...\n1     1                    Currently certified as operatin\nunder_investigation:     code description\n0     0          No\n1     1        HCM2\nmain_campus:     code      description\n0     0  Not main campus\n1     1      Main campus\ninstitutional_characteristics_level:     code       description\n0     1            4-year\n1     2            2-year\n2     3  Less-than-2-year\nownership_peps:     code         description\n0     1  Public            \n1     2  Private, Nonprofit\n2     3         Proprietary\nownership:     code         description\n0     1              Public\n1     2   Private nonprofit\n2     3  Private for-profit\nonline_only:     code                  description\n0     0  Not distance-education only\n1     1      Distance-education only\nopen_admissions_policy:     code                          description\n0     1                                  Yes\n1     2                                   No\n2     3  Does not enroll first-time students\ndegrees_awarded_predominant:     code                                description\n0     0                             Not classified\n1     1  Predominantly certificate-degree granting\n2     2  Predominantly associate's-degree granting\n3     3   Predominantly bachelor's-degree granting\n4     4          Entirely graduate-degree granting\ndegrees_awarded_highest:     code          description\n0     0  Non-degree-granting\n1     1   Certificate degree\n2     2     Associate degree\n3     3    Bachelor's degree\n4     4      Graduate degree\ntitle_iv_eligibility_type:     code                                        description\n0     1  Participates in Title IV federal financial aid...\n1     2  Branch campus of a main campus that participat...\n2     3             Deferment only - limited participation\n3     5  Not currently participating in Title IV, has a...\n4     6  Not currently participating in Title IV, does ...\n5     7   Stopped participating during the collection year\n6     8  New participants (became eligible during the c...\ncarnegie_size_setting:      code                                      description\n0     -2                                   Not applicable\n1      0                                 (Not classified)\n2      1                             Two-year, very small\n3      2                                  Two-year, small\n4      3                                 Two-year, medium\n5      4                                  Two-year, large\n6      5                             Two-year, very large\n7      6  Four-year, very small, primarily nonresidential\n8      7     Four-year, very small, primarily residential\n9      8        Four-year, very small, highly residential\n10     9       Four-year, small, primarily nonresidential\n11    10          Four-year, small, primarily residential\n12    11             Four-year, small, highly residential\n13    12      Four-year, medium, primarily nonresidential\n14    13         Four-year, medium, primarily residential\n15    14            Four-year, medium, highly residential\n16    15       Four-year, large, primarily nonresidential\n17    16          Four-year, large, primarily residential\n18    17             Four-year, large, highly residential\n19    18                Exclusively graduate/professional\ncarnegie_undergrad:      code                                        description\n0     -2                                     Not applicable\n1      0              Not classified (Exclusively Graduate)\n2      1                         Two-year, higher part-time\n3      2                     Two-year, mixed part/full-time\n4      3                         Two-year, medium full-time\n5      4                         Two-year, higher full-time\n6      5                        Four-year, higher part-time\n7      6  Four-year, medium full-time, inclusive, lower ...\n8      7  Four-year, medium full-time, inclusive, higher...\n9      8  Four-year, medium full-time, selective, lower ...\n10     9  Four-year, medium full-time , selective, highe...\n11    10  Four-year, full-time, inclusive, lower transfe...\n12    11  Four-year, full-time, inclusive, higher transf...\n13    12  Four-year, full-time, selective, lower transfe...\n14    13  Four-year, full-time, selective, higher transf...\n15    14  Four-year, full-time, more selective, lower tr...\n16    15  Four-year, full-time, more selective, higher t...\ncarnegie_basic:      code                                        description\n0     -2                                     Not applicable\n1      0                                   (Not classified)\n2      1  Associate's Colleges: High Transfer-High Tradi...\n3      2  Associate's Colleges: High Transfer-Mixed Trad...\n4      3  Associate's Colleges: High Transfer-High Nontr...\n5      4  Associate's Colleges: Mixed Transfer/Career & ...\n6      5  Associate's Colleges: Mixed Transfer/Career & ...\n7      6  Associate's Colleges: Mixed Transfer/Career & ...\n8      7  Associate's Colleges: High Career & Technical-...\n9      8  Associate's Colleges: High Career & Technical-...\n10     9  Associate's Colleges: High Career & Technical-...\n11    10         Special Focus Two-Year: Health Professions\n12    11      Special Focus Two-Year: Technical Professions\n13    12              Special Focus Two-Year: Arts & Design\n14    13               Special Focus Two-Year: Other Fields\n15    14  Baccalaureate/Associate's Colleges: Associate'...\n16    15  Doctoral Universities: Very High Research Acti...\n17    16      Doctoral Universities: High Research Activity\n18    17                 Doctoral/Professional Universities\n19    18  Master's Colleges & Universities: Larger Programs\n20    19  Master's Colleges & Universities: Medium Programs\n21    20   Master's Colleges & Universities: Small Programs\n22    21      Baccalaureate Colleges: Arts & Sciences Focus\n23    22             Baccalaureate Colleges: Diverse Fields\n24    23  Baccalaureate/Associate's Colleges: Mixed Bacc...\n25    24  Special Focus Four-Year: Faith-Related Institu...\n26    25  Special Focus Four-Year: Medical Schools & Cen...\n27    26  Special Focus Four-Year: Other Health Professi...\n28    27       Special Focus Four-Year: Engineering Schools\n29    28  Special Focus Four-Year: Other Technology-Rela...\n30    29  Special Focus Four-Year: Business & Management...\n31    30  Special Focus Four-Year: Arts, Music & Design ...\n32    31               Special Focus Four-Year: Law Schools\n33    32  Special Focus Four-Year: Other Special Focus I...\n34    33                                    Tribal Colleges\nmen_only:     code description\n0     0          No\n1     1         Yes\nwomen_only:     code description\n0     0          No\n1     1         Yes\nreligious_affiliation:      code                              description\n0     -1                             Not reported\n1     -2                           Not applicable\n2     22     American Evangelical Lutheran Church\n3     24  African Methodist Episcopal Zion Church\n4     27                 Assemblies of God Church\n..   ...                                      ...\n63   102                    Evangelical Christian\n64   103                             Presbyterian\n65   105                          General Baptist\n66   106                                   Muslim\n67   107                        Plymouth Brethren\n\n[68 rows x 2 columns]\nThe API was successfully queried and the information uploaded to Dataframes\nAll the information from the API was uploaded to the database\n"
    }
   ],
   "source": [
    "rest_3 = \"&page=\" + str(1)\n",
    "%run ./2_education_api.ipynb\n",
    "pages = math.ceil(response['metadata']['total']/response['metadata']['per_page'])\n",
    "\n",
    "for i in range(2,1+pages):\n",
    "    rest_3 = \"&page=\" + str(i)\n",
    "    # Query the API\n",
    "    %run ./2_education_api.ipynb\n",
    "    # Upload the data\n",
    "    %run ./3_upload_to_db_main_tables.ipynb"
   ]
  },
  {
   "cell_type": "markdown",
   "metadata": {},
   "source": [
    "#### Load of CSV Files to auxiliar tables in the Database"
   ]
  },
  {
   "cell_type": "code",
   "execution_count": 5,
   "metadata": {},
   "outputs": [
    {
     "output_type": "stream",
     "name": "stdout",
     "text": "All the information from the csv files was uploaded to the database\n"
    }
   ],
   "source": [
    "%run ./4_upload_to_db_auxiliar_tables.ipynb"
   ]
  },
  {
   "cell_type": "markdown",
   "metadata": {},
   "source": [
    "### Export the files to csv, JSON and Dictionary Files"
   ]
  },
  {
   "cell_type": "code",
   "execution_count": 6,
   "metadata": {},
   "outputs": [
    {
     "output_type": "stream",
     "name": "stdout",
     "text": "Dataframe, csv, txt, and json files were created\n"
    }
   ],
   "source": [
    "# Query and create ouput files\n",
    "%run ./5_query_db.ipynb   "
   ]
  },
  {
   "cell_type": "code",
   "execution_count": null,
   "metadata": {},
   "outputs": [],
   "source": []
  }
 ],
 "metadata": {
  "kernelspec": {
   "display_name": "Python 3",
   "language": "python",
   "name": "python3"
  },
  "language_info": {
   "codemirror_mode": {
    "name": "ipython",
    "version": 3
   },
   "file_extension": ".py",
   "mimetype": "text/x-python",
   "name": "python",
   "nbconvert_exporter": "python",
   "pygments_lexer": "ipython3",
   "version": "3.7.4-final"
  }
 },
 "nbformat": 4,
 "nbformat_minor": 2
}