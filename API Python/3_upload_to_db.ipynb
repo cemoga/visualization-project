{
 "cells": [
  {
   "cell_type": "code",
   "execution_count": 2,
   "metadata": {},
   "outputs": [],
   "source": [
    "import pandas as pd\n",
    "from sqlalchemy import create_engine\n",
    "import numpy as np\n",
    "from config import (ServerName, UserName, Password, port, DataBase)"
   ]
  },
  {
   "cell_type": "code",
   "execution_count": 3,
   "metadata": {},
   "outputs": [],
   "source": [
    "rds_connection_string = f'{UserName}:{Password}@{ServerName}:{port}/{DataBase}'\n",
    "engine = create_engine(f'postgresql://{rds_connection_string}')"
   ]
  },
  {
   "cell_type": "markdown",
   "metadata": {},
   "source": [
    "### Consult tables in the Database"
   ]
  },
  {
   "cell_type": "code",
   "execution_count": 4,
   "metadata": {},
   "outputs": [
    {
     "data": {
      "text/plain": [
       "['region_id',\n",
       " 'geoloc',\n",
       " 'under_investigation',\n",
       " 'locale',\n",
       " 'detail',\n",
       " 'sample',\n",
       " 'operating',\n",
       " 'main_campus',\n",
       " 'institutional_characteristics_level',\n",
       " 'metrics',\n",
       " 'state_fips',\n",
       " 'open_admissions_policy',\n",
       " 'ownership_peps',\n",
       " 'ownership',\n",
       " 'degrees_awarded_predominant',\n",
       " 'degrees_awarded_highest',\n",
       " 'title_iv_eligibility_type',\n",
       " 'carnegie_size_setting',\n",
       " 'carnegie_undergrad',\n",
       " 'carnegie_basic',\n",
       " 'men_only',\n",
       " 'women_only',\n",
       " 'religious_affiliation',\n",
       " 'basic',\n",
       " 'online_only']"
      ]
     },
     "execution_count": 4,
     "metadata": {},
     "output_type": "execute_result"
    }
   ],
   "source": [
    "engine.table_names()"
   ]
  },
  {
   "cell_type": "markdown",
   "metadata": {},
   "source": [
    "## Save dataframes in database and query it"
   ]
  },
  {
   "cell_type": "code",
   "execution_count": null,
   "metadata": {},
   "outputs": [],
   "source": [
    "table_names = ['basic', 'detail', 'metrics', 'geoloc', 'state_fips', \n",
    "               'region_id', 'locale', 'operating', 'under_investigation', \n",
    "               'main_campus', 'institutional_characteristics_level', 'ownership_peps', \n",
    "               'ownership', 'online_only', 'open_admissions_policy', 'degrees_awarded_predominant', \n",
    "               'degrees_awarded_highest', 'title_iv_eligibility_type', 'carnegie_size_setting', \n",
    "               'carnegie_undergrad', 'carnegie_basic', 'men_only', 'women_only', \n",
    "               'religious_affiliation']\n",
    "\n",
    "df_names = [basic_df, detail_df, metrics_df, geoloc_df, state_fips_df, \n",
    "               region_id_df, locale_df, operating_df, under_investigation_df, \n",
    "               main_campus_df, institutional_characteristics_level_df, ownership_peps_df, \n",
    "             ownership_df, online_only_df, open_admissions_policy_df, degrees_awarded_predominant_df, \n",
    "               degrees_awarded_highest_df, title_iv_eligibility_type_df, carnegie_size_setting_df, \n",
    "               carnegie_undergrad_df, carnegie_basic_df, men_only_df, women_only_df]\n",
    "\n",
    "\n",
    "for i in range(len(df_names)):\n",
    "    df = df_names[i]\n",
    "    table_name = table_names[i]\n",
    "    df.to_sql(name= table_name, con=engine, if_exists='append', index=False)\n",
    "    query = pd.read_sql_query(f'select * from \"{table_name}\"', con=engine).head()\n",
    "    query"
   ]
  },
  {
   "cell_type": "code",
   "execution_count": 15,
   "metadata": {},
   "outputs": [
    {
     "name": "stdout",
     "output_type": "stream",
     "text": [
      "All the information was uploaded to the databases:\n"
     ]
    }
   ],
   "source": [
    "# Result for the main notebook\n",
    "print('All the information was uploaded to the database')"
   ]
  },
  {
   "cell_type": "code",
   "execution_count": null,
   "metadata": {},
   "outputs": [],
   "source": []
  }
 ],
 "metadata": {
  "kernelspec": {
   "display_name": "Python 3",
   "language": "python",
   "name": "python3"
  },
  "language_info": {
   "codemirror_mode": {
    "name": "ipython",
    "version": 3
   },
   "file_extension": ".py",
   "mimetype": "text/x-python",
   "name": "python",
   "nbconvert_exporter": "python",
   "pygments_lexer": "ipython3",
   "version": "3.7.4"
  },
  "nteract": {
   "version": "0.12.3"
  }
 },
 "nbformat": 4,
 "nbformat_minor": 2
}
