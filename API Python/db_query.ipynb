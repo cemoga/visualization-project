{
 "cells": [
  {
   "cell_type": "markdown",
   "metadata": {},
   "source": [
    "## Query to Dataframe"
   ]
  },
  {
   "cell_type": "markdown",
   "metadata": {},
   "source": [
    "## Dependencies"
   ]
  },
  {
   "cell_type": "code",
   "execution_count": 7,
   "metadata": {},
   "outputs": [],
   "source": [
    "import pandas as pd\n",
    "from sqlalchemy import create_engine\n",
    "import numpy as np\n",
    "from config import (ServerName, UserName, Password, port, DataBase)\n",
    "import psycopg2"
   ]
  },
  {
   "cell_type": "markdown",
   "metadata": {},
   "source": [
    "## Connection"
   ]
  },
  {
   "cell_type": "code",
   "execution_count": 8,
   "metadata": {},
   "outputs": [],
   "source": [
    "rds_connection_string = f'{UserName}:{Password}@{ServerName}:{port}/{DataBase}'\n",
    "engine = create_engine(f'postgresql://{rds_connection_string}')"
   ]
  },
  {
   "cell_type": "markdown",
   "metadata": {},
   "source": [
    "## Function to Query the Database"
   ]
  },
  {
   "cell_type": "code",
   "execution_count": 9,
   "metadata": {},
   "outputs": [],
   "source": [
    "# \"sqlfile\": contains the file.sql with the query and \n",
    "# \"json_file\": It contains the route \"folder/name.json\" for the output\n",
    "# \"json_file\": It contains the route \"folder/name.csv\" for the output\n",
    "def run_sql(sqlfile, json_file, csv_file):\n",
    "\n",
    "    fd = open(sqlfile, 'r')\n",
    "    sqlFile = fd.read()\n",
    "    fd.close()\n",
    "\n",
    "    # all SQL commands (split on ';')\n",
    "    sqlCommands = sqlFile.split(';')    \n",
    "\n",
    "    try:\n",
    "        # connect to the PostgreSQL server\n",
    "        engine = create_engine(f'postgres+psycopg2://{UserName}:{Password}@{ServerName}:{port}/{DataBase}')\n",
    "        conn = engine.connect()\n",
    "        # create table one by one\n",
    "        for command in sqlCommands:\n",
    "            trans = conn.begin()\n",
    "            conn.execute(command)\n",
    "            trans.commit()\n",
    "        # Close connection\n",
    "        tables = engine.table_names()\n",
    "        conn.close()\n",
    "        SQL_Query = pd.read_sql_query(command, con=engine)\n",
    "        # Create Dataframe\n",
    "        df = pd.DataFrame(SQL_Query)\n",
    "        # Create CSV File\n",
    "        df.to_csv(csv_file, index=False)\n",
    "        # Create JSON file\n",
    "        json = df.to_json(orient='records')\n",
    "        f = open(json_file,\"w\")\n",
    "        f.write( str(json) )\n",
    "        f.close()\n",
    "        print('The Dataframe and json file were created')\n",
    "    except (Exception, psycopg2.DatabaseError) as error:\n",
    "        print(error)"
   ]
  },
  {
   "cell_type": "code",
   "execution_count": 10,
   "metadata": {},
   "outputs": [
    {
     "name": "stdout",
     "output_type": "stream",
     "text": [
      "The Dataframe and json file were created\n"
     ]
    }
   ],
   "source": [
    "sql_file = 'queries/full_query.sql'\n",
    "csv_file = '../output_charts/full_query.csv'\n",
    "json_file = '../output_charts/full_query.json'\n",
    "run_sql(sql_file, json_file, csv_file)"
   ]
  },
  {
   "cell_type": "code",
   "execution_count": null,
   "metadata": {},
   "outputs": [],
   "source": []
  }
 ],
 "metadata": {
  "file_extension": ".py",
  "kernelspec": {
   "display_name": "Python 3",
   "language": "python",
   "name": "python3"
  },
  "language_info": {
   "codemirror_mode": {
    "name": "ipython",
    "version": 3
   },
   "file_extension": ".py",
   "mimetype": "text/x-python",
   "name": "python",
   "nbconvert_exporter": "python",
   "pygments_lexer": "ipython3",
   "version": "3.7.4"
  },
  "mimetype": "text/x-python",
  "name": "python",
  "npconvert_exporter": "python",
  "pygments_lexer": "ipython3",
  "version": 3
 },
 "nbformat": 4,
 "nbformat_minor": 2
}
