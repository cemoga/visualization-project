{
 "cells": [
  {
   "cell_type": "markdown",
   "metadata": {},
   "source": [
    "# Query the Database"
   ]
  },
  {
   "cell_type": "markdown",
   "metadata": {},
   "source": [
    "### Define dependencies"
   ]
  },
  {
   "cell_type": "code",
   "execution_count": 119,
   "metadata": {},
   "outputs": [],
   "source": [
    "import pandas as pd\n",
    "from sqlalchemy import create_engine\n",
    "import numpy as np\n",
    "from config import (ServerName, UserName, Password, port, DataBase)\n",
    "import psycopg2"
   ]
  },
  {
   "cell_type": "markdown",
   "metadata": {},
   "source": [
    "### Create Engine"
   ]
  },
  {
   "cell_type": "code",
   "execution_count": 120,
   "metadata": {},
   "outputs": [],
   "source": [
    "rds_connection_string = f'{UserName}:{Password}@{ServerName}:{port}/{DataBase}'\n",
    "engine = create_engine(f'postgresql://{rds_connection_string}')"
   ]
  },
  {
   "cell_type": "markdown",
   "metadata": {},
   "source": [
    "### Consult tables in the Database"
   ]
  },
  {
   "cell_type": "code",
   "execution_count": 121,
   "metadata": {},
   "outputs": [
    {
     "data": {
      "text/plain": [
       "['basic',\n",
       " 'detail',\n",
       " 'metrics',\n",
       " 'geoloc',\n",
       " 'state_fips',\n",
       " 'region_id',\n",
       " 'locale',\n",
       " 'operating',\n",
       " 'under_investigation',\n",
       " 'main_campus',\n",
       " 'institutional_characteristics_level',\n",
       " 'ownership_peps',\n",
       " 'ownership',\n",
       " 'online_only',\n",
       " 'open_admissions_policy',\n",
       " 'degrees_awarded_predominant',\n",
       " 'degrees_awarded_highest',\n",
       " 'title_iv_eligibility_type',\n",
       " 'carnegie_size_setting',\n",
       " 'carnegie_undergrad',\n",
       " 'carnegie_basic',\n",
       " 'men_only',\n",
       " 'women_only',\n",
       " 'religious_affiliation']"
      ]
     },
     "execution_count": 121,
     "metadata": {},
     "output_type": "execute_result"
    }
   ],
   "source": [
    "engine.table_names()"
   ]
  },
  {
   "cell_type": "markdown",
   "metadata": {},
   "source": [
    "## Function to Run an SQL File"
   ]
  },
  {
   "cell_type": "code",
   "execution_count": 122,
   "metadata": {},
   "outputs": [],
   "source": [
    "def run_sql(sql_file, output_csv, output_dic, output_json):\n",
    "\n",
    "    fd = open(sqlfile, 'r')\n",
    "    sqlFile = fd.read()\n",
    "    fd.close()\n",
    "\n",
    "    # all SQL commands (split on ';')\n",
    "    sqlCommands = sqlFile.split(';')    \n",
    "\n",
    "    try:\n",
    "        # connect to the PostgreSQL server\n",
    "        engine = create_engine(f'postgres+psycopg2://{UserName}:{Password}@{ServerName}:{port}/{DataBase}')\n",
    "        conn = engine.connect()\n",
    "        # create table one by one\n",
    "        for command in sqlCommands:\n",
    "            trans = conn.begin()\n",
    "            conn.execute(command)\n",
    "            trans.commit()\n",
    "        # Close connection\n",
    "        tables = engine.table_names()\n",
    "        conn.close()\n",
    "        SQL_Query = pd.read_sql_query(command, con=engine)\n",
    "        # Create Dataframe\n",
    "        df = pd.DataFrame(SQL_Query)\n",
    "        # Create CSV File\n",
    "        df.to_csv(output_csv, index=False)\n",
    "        # Create Dictionary\n",
    "        dict = df.to_dict(orient='records')\n",
    "        f = open(output_dic,\"w\")\n",
    "        f.write( str(dict) )\n",
    "        f.close()\n",
    "        # Create JSON file\n",
    "        df.to_json(orient='records')\n",
    "        f = open(output_json,\"w\")\n",
    "        f.write( str(dict) )\n",
    "        f.close()\n",
    "        print('Dataframe, csv, txt, and json files were created')\n",
    "    except (Exception, psycopg2.DatabaseError) as error:\n",
    "        print(error)"
   ]
  },
  {
   "cell_type": "markdown",
   "metadata": {},
   "source": [
    "## Run the SQL file with the Full Query"
   ]
  },
  {
   "cell_type": "code",
   "execution_count": 123,
   "metadata": {},
   "outputs": [
    {
     "name": "stdout",
     "output_type": "stream",
     "text": [
      "Dataframe, csv, txt, and json files were created\n"
     ]
    },
    {
     "data": {
      "text/html": [
       "<div>\n",
       "<style scoped>\n",
       "    .dataframe tbody tr th:only-of-type {\n",
       "        vertical-align: middle;\n",
       "    }\n",
       "\n",
       "    .dataframe tbody tr th {\n",
       "        vertical-align: top;\n",
       "    }\n",
       "\n",
       "    .dataframe thead th {\n",
       "        text-align: right;\n",
       "    }\n",
       "</style>\n",
       "<table border=\"1\" class=\"dataframe\">\n",
       "  <thead>\n",
       "    <tr style=\"text-align: right;\">\n",
       "      <th></th>\n",
       "      <th>id</th>\n",
       "      <th>ope8_id</th>\n",
       "      <th>ope6_id</th>\n",
       "      <th>name</th>\n",
       "      <th>alias</th>\n",
       "      <th>city</th>\n",
       "      <th>state</th>\n",
       "      <th>state_fips_dec</th>\n",
       "      <th>zip</th>\n",
       "      <th>region_id_desc</th>\n",
       "      <th>...</th>\n",
       "      <th>carnegie_size_setting_desc</th>\n",
       "      <th>carnegie_undergrad_desc</th>\n",
       "      <th>carnegie_basic_desc</th>\n",
       "      <th>men_only_desc</th>\n",
       "      <th>women_only_desc</th>\n",
       "      <th>religious_affiliation</th>\n",
       "      <th>tuition_in_state</th>\n",
       "      <th>tuition_out_of_state</th>\n",
       "      <th>location_lon</th>\n",
       "      <th>location_lat</th>\n",
       "    </tr>\n",
       "  </thead>\n",
       "  <tbody>\n",
       "  </tbody>\n",
       "</table>\n",
       "<p>0 rows × 44 columns</p>\n",
       "</div>"
      ],
      "text/plain": [
       "Empty DataFrame\n",
       "Columns: [id, ope8_id, ope6_id, name, alias, city, state, state_fips_dec, zip, region_id_desc, locale_desc, school_url, operating, operating_desc, under_investigation_desc, main_campus_desc, branches, institutional_characteristics_leveldesc, ownership_peps_desc, ownership_desc, online_only_desc, open_admissions_policy_desc, accreditor_code, accreditor, degrees_awarded_predominant_desc, degrees_awarded_highest_desc, title_iv_approval_date, title_iv_eligibility_type_desc, ft_faculty_rate, faculty_salary, tuition_revenue_per_fte, price_calculator_url, instructional_expenditure_per_fte, degree_urbanization, carnegie_size_setting_desc, carnegie_undergrad_desc, carnegie_basic_desc, men_only_desc, women_only_desc, religious_affiliation, tuition_in_state, tuition_out_of_state, location_lon, location_lat]\n",
       "Index: []\n",
       "\n",
       "[0 rows x 44 columns]"
      ]
     },
     "execution_count": 123,
     "metadata": {},
     "output_type": "execute_result"
    }
   ],
   "source": [
    "# Input routes to the output files and the source of the SQL code\n",
    "sqlfile = 'queries/full_query.sql'\n",
    "outputcsv = 'output/full_query.csv'\n",
    "outputdic = 'output/full_query_dict.txt'\n",
    "outputjson = 'output/full_query_json.json'\n",
    "# Run the function to query the db and create output files\n",
    "run_sql(sqlfile, outputcsv, outputdic, outputjson)\n",
    "# Read and print csv file just created from the database\n",
    "data = pd.read_csv(outputcsv)\n",
    "data.head()"
   ]
  }
 ],
 "metadata": {
  "kernelspec": {
   "display_name": "Python 3",
   "language": "python",
   "name": "python3"
  },
  "language_info": {
   "codemirror_mode": {
    "name": "ipython",
    "version": 3
   },
   "file_extension": ".py",
   "mimetype": "text/x-python",
   "name": "python",
   "nbconvert_exporter": "python",
   "pygments_lexer": "ipython3",
   "version": "3.7.4"
  },
  "nteract": {
   "version": "0.12.3"
  }
 },
 "nbformat": 4,
 "nbformat_minor": 2
}
