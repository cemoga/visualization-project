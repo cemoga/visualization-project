{
 "cells": [
  {
   "cell_type": "markdown",
   "metadata": {},
   "source": [
    "# Schema Creation"
   ]
  },
  {
   "cell_type": "markdown",
   "metadata": {},
   "source": [
    "### Import Dependencies"
   ]
  },
  {
   "cell_type": "code",
   "execution_count": 11,
   "metadata": {},
   "outputs": [],
   "source": [
    "import psycopg2\n",
    "from config import (ServerName, UserName, Password, port, DataBase)\n",
    "from sqlalchemy import create_engine\n",
    "from sqlalchemy_utils import create_database, database_exists, drop_database"
   ]
  },
  {
   "cell_type": "markdown",
   "metadata": {},
   "source": [
    "## Create Database"
   ]
  },
  {
   "cell_type": "code",
   "execution_count": 12,
   "metadata": {},
   "outputs": [
    {
     "name": "stdout",
     "output_type": "stream",
     "text": [
      "The database education_db has been created\n"
     ]
    }
   ],
   "source": [
    "engine = create_engine(f'postgres+psycopg2://{UserName}:{Password}@{ServerName}:{port}/{DataBase}')\n",
    "\n",
    "# If a PostgreSQL database with this name exists\n",
    "if database_exists(engine.url):\n",
    "    # Delete PostgreSQL database \n",
    "    drop_database(engine.url)\n",
    "    # Create empty PostgreSQL database\n",
    "    create_database(engine.url)\n",
    "# Otherwise\n",
    "else:\n",
    "    # Create empty PostgreSQL database\n",
    "    create_database(engine.url)\n",
    "    \n",
    "print(f'The database {engine.url.database} has been created')"
   ]
  },
  {
   "cell_type": "markdown",
   "metadata": {},
   "source": [
    "### Create Tables"
   ]
  },
  {
   "cell_type": "code",
   "execution_count": 13,
   "metadata": {},
   "outputs": [],
   "source": [
    "def create_tables():\n",
    "    \"\"\" create tables in the PostgreSQL database\"\"\"\n",
    "    commands = (\n",
    "                \"\"\"        \n",
    "                DROP TABLE IF EXISTS \"Hum_Dev_Ind\";\n",
    "                \"\"\",\n",
    "                \"\"\"\n",
    "                DROP TABLE IF EXISTS \"Economic\";\n",
    "                \"\"\",\n",
    "                \"\"\"\n",
    "                DROP TABLE IF EXISTS \"Suicide\";\n",
    "                \"\"\",\n",
    "                \"\"\"                \n",
    "                CREATE TABLE \"Hum_Dev_Ind\" (\n",
    "                \"Country\" varchar   NOT NULL,\n",
    "                \"Year\" varchar   NOT NULL,\n",
    "                \"HDI\" float   NOT NULL,\n",
    "                CONSTRAINT \"pk_Hum_Dev_Ind\" PRIMARY KEY (\n",
    "                \"Country\",\"Year\"\n",
    "                    )\n",
    "                );\n",
    "                \"\"\",\n",
    "                \"\"\"\n",
    "                CREATE TABLE \"Economic\" (\n",
    "                \"Country\" varchar   NOT NULL,\n",
    "                \"Year\" int   NOT NULL,\n",
    "                \"GDP_growth\" float   NOT NULL,\n",
    "                \"Inflation\" float   NOT NULL,\n",
    "                CONSTRAINT \"pk_Economic\" PRIMARY KEY (\n",
    "                \"Country\",\"Year\"\n",
    "                    )\n",
    "                );\n",
    "                \"\"\",\n",
    "                \"\"\"\n",
    "                CREATE TABLE \"Suicide\" (\n",
    "                \"Country\" varchar   NOT NULL,\n",
    "                \"Year\" int   NOT NULL,\n",
    "                \"Suicide_Rate_Male\" float   NOT NULL,\n",
    "                \"Suicide_Rate_Female\" float   NOT NULL,\n",
    "                CONSTRAINT \"pk_Suicide\" PRIMARY KEY (\n",
    "                \"Country\",\"Year\"\n",
    "     )\n",
    ");\n",
    "        \"\"\")\n",
    "    try:\n",
    "        # connect to the PostgreSQL server\n",
    "        engine = create_engine(f'postgres+psycopg2://{UserName}:{Password}@{ServerName}:{port}/{DataBase}')\n",
    "        conn = engine.connect()\n",
    "        # create table one by one\n",
    "        for command in commands:\n",
    "            trans = conn.begin()\n",
    "            conn.execute(command)\n",
    "            trans.commit()\n",
    "        # Close connection\n",
    "        tables = engine.table_names()\n",
    "        conn.close()\n",
    "        print (f'The tables: {tables} were created')\n",
    "    except (Exception, psycopg2.DatabaseError) as error:\n",
    "        print(error)"
   ]
  },
  {
   "cell_type": "markdown",
   "metadata": {},
   "source": [
    "### Consult Tables"
   ]
  },
  {
   "cell_type": "code",
   "execution_count": 14,
   "metadata": {},
   "outputs": [
    {
     "data": {
      "text/plain": [
       "[]"
      ]
     },
     "execution_count": 14,
     "metadata": {},
     "output_type": "execute_result"
    }
   ],
   "source": [
    "engine = create_engine(f'postgres+psycopg2://{UserName}:{Password}@{ServerName}:{port}/{DataBase}')\n",
    "engine.table_names()"
   ]
  },
  {
   "cell_type": "markdown",
   "metadata": {},
   "source": [
    "### Alter Tables and Include Foreign Keys"
   ]
  },
  {
   "cell_type": "code",
   "execution_count": 15,
   "metadata": {},
   "outputs": [],
   "source": [
    "def alter_tables():\n",
    "    \"\"\" create tables in the PostgreSQL database\"\"\"\n",
    "    commands = (\n",
    "                \"\"\"        \n",
    "\n",
    "        \"\"\")\n",
    "    try:\n",
    "        # connect to the PostgreSQL server\n",
    "        engine = create_engine(f'postgres+psycopg2://{UserName}:{Password}@{ServerName}:{port}/{DataBase}')\n",
    "        conn = engine.connect()\n",
    "        # create table one by one\n",
    "        for command in commands:\n",
    "            trans = conn.begin()\n",
    "            conn.execute(command)\n",
    "            trans.commit()\n",
    "        # Close connection\n",
    "        conn.close()  \n",
    "    except (Exception, psycopg2.DatabaseError) as error:\n",
    "        print(error)"
   ]
  },
  {
   "cell_type": "code",
   "execution_count": null,
   "metadata": {},
   "outputs": [],
   "source": []
  }
 ],
 "metadata": {
  "kernelspec": {
   "display_name": "Python 3",
   "language": "python",
   "name": "python3"
  },
  "language_info": {
   "codemirror_mode": {
    "name": "ipython",
    "version": 3
   },
   "file_extension": ".py",
   "mimetype": "text/x-python",
   "name": "python",
   "nbconvert_exporter": "python",
   "pygments_lexer": "ipython3",
   "version": "3.7.4"
  }
 },
 "nbformat": 4,
 "nbformat_minor": 2
}
