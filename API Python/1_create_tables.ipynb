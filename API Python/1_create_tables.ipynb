{
 "cells": [
  {
   "cell_type": "markdown",
   "metadata": {},
   "source": [
    "# Schema Creation"
   ]
  },
  {
   "cell_type": "markdown",
   "metadata": {},
   "source": [
    "### Import Dependencies"
   ]
  },
  {
   "cell_type": "code",
   "execution_count": 6,
   "metadata": {},
   "outputs": [],
   "source": [
    "import psycopg2\n",
    "from config import (ServerName, UserName, Password, port, DataBase)\n",
    "from sqlalchemy import create_engine\n",
    "from sqlalchemy_utils import create_database, database_exists, drop_database"
   ]
  },
  {
   "cell_type": "markdown",
   "metadata": {},
   "source": [
    "## Create Database"
   ]
  },
  {
   "cell_type": "code",
   "execution_count": 7,
   "metadata": {},
   "outputs": [
    {
     "name": "stdout",
     "output_type": "stream",
     "text": [
      "The database education_db has been created or it already exists\n"
     ]
    }
   ],
   "source": [
    "engine = create_engine(f'postgres+psycopg2://{UserName}:{Password}@{ServerName}:{port}/{DataBase}')\n",
    "\n",
    "# If a PostgreSQL database with this name exists\n",
    "if database_exists(engine.url):\n",
    "    # Delete PostgreSQL database \n",
    "    drop_database(engine.url)\n",
    "    # Create empty PostgreSQL database\n",
    "    create_database(engine.url)\n",
    "# Otherwise\n",
    "else:\n",
    "    # Create empty PostgreSQL database\n",
    "    create_database(engine.url)\n",
    "    \n",
    "print(f'The database {engine.url.database} has been created or it already exists')"
   ]
  },
  {
   "cell_type": "markdown",
   "metadata": {},
   "source": [
    "## Create Tables"
   ]
  },
  {
   "cell_type": "markdown",
   "metadata": {},
   "source": [
    "### Function to Create Tables with a SQL File"
   ]
  },
  {
   "cell_type": "code",
   "execution_count": 8,
   "metadata": {},
   "outputs": [],
   "source": [
    "def create_tables_sql(sql_file):\n",
    "\n",
    "    fd = open(sqlfile, 'r')\n",
    "    sqlFile = fd.read()\n",
    "    fd.close()\n",
    "\n",
    "    # all SQL commands (split on ';')\n",
    "    sqlCommands = sqlFile.split(';')    \n",
    "\n",
    "    try:\n",
    "        # connect to the PostgreSQL server\n",
    "        engine = create_engine(f'postgres+psycopg2://{UserName}:{Password}@{ServerName}:{port}/{DataBase}')\n",
    "        conn = engine.connect()\n",
    "        # create table one by one\n",
    "        for command in sqlCommands:\n",
    "            trans = conn.begin()\n",
    "            conn.execute(command)\n",
    "            trans.commit()\n",
    "        # Close connection\n",
    "        tables = engine.table_names()\n",
    "        conn.close()\n",
    "        print(f'The Tables {tables} were created')\n",
    "    except (Exception, psycopg2.DatabaseError) as error:\n",
    "        print(error)"
   ]
  },
  {
   "cell_type": "markdown",
   "metadata": {},
   "source": [
    "### Run the Function to Run the SQL File to Create the Tables "
   ]
  },
  {
   "cell_type": "code",
   "execution_count": 9,
   "metadata": {},
   "outputs": [
    {
     "name": "stdout",
     "output_type": "stream",
     "text": [
      "The Tables ['basic', 'detail', 'metrics', 'geoloc', 'state_fips', 'region_id', 'locale', 'operating', 'under_investigation', 'main_campus', 'institutional_characteristics_level', 'ownership_peps', 'ownership', 'online_only', 'open_admissions_policy', 'degrees_awarded_predominant', 'degrees_awarded_highest', 'title_iv_eligibility_type', 'carnegie_size_setting', 'carnegie_undergrad', 'carnegie_basic', 'men_only', 'women_only', 'religious_affiliation'] were created\n"
     ]
    }
   ],
   "source": [
    "# Input routes to the output files and the source of the SQL code\n",
    "sqlfile = 'queries/create_tables.sql'\n",
    "# Run the function to query the db and create output files\n",
    "create_tables_sql(sqlfile)"
   ]
  },
  {
   "cell_type": "markdown",
   "metadata": {},
   "source": [
    "### Consult Tables"
   ]
  },
  {
   "cell_type": "code",
   "execution_count": 10,
   "metadata": {},
   "outputs": [
    {
     "data": {
      "text/plain": [
       "['basic',\n",
       " 'detail',\n",
       " 'metrics',\n",
       " 'geoloc',\n",
       " 'state_fips',\n",
       " 'region_id',\n",
       " 'locale',\n",
       " 'operating',\n",
       " 'under_investigation',\n",
       " 'main_campus',\n",
       " 'institutional_characteristics_level',\n",
       " 'ownership_peps',\n",
       " 'ownership',\n",
       " 'online_only',\n",
       " 'open_admissions_policy',\n",
       " 'degrees_awarded_predominant',\n",
       " 'degrees_awarded_highest',\n",
       " 'title_iv_eligibility_type',\n",
       " 'carnegie_size_setting',\n",
       " 'carnegie_undergrad',\n",
       " 'carnegie_basic',\n",
       " 'men_only',\n",
       " 'women_only',\n",
       " 'religious_affiliation']"
      ]
     },
     "execution_count": 10,
     "metadata": {},
     "output_type": "execute_result"
    }
   ],
   "source": [
    "engine = create_engine(f'postgres+psycopg2://{UserName}:{Password}@{ServerName}:{port}/{DataBase}')\n",
    "engine.table_names()"
   ]
  }
 ],
 "metadata": {
  "kernelspec": {
   "display_name": "Python 3",
   "language": "python",
   "name": "python3"
  },
  "language_info": {
   "codemirror_mode": {
    "name": "ipython",
    "version": 3
   },
   "file_extension": ".py",
   "mimetype": "text/x-python",
   "name": "python",
   "nbconvert_exporter": "python",
   "pygments_lexer": "ipython3",
   "version": "3.7.3"
  }
 },
 "nbformat": 4,
 "nbformat_minor": 2
}
